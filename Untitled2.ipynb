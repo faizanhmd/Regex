{
 "cells": [
  {
   "cell_type": "code",
   "execution_count": 24,
   "metadata": {},
   "outputs": [
    {
     "name": "stdout",
     "output_type": "stream",
     "text": [
      "<re.Match object; span=(56, 70), match='+91-1234567899'>\n"
     ]
    }
   ],
   "source": [
    "#using search function;    here, '?' means pattern may be present 0 or 1 time \n",
    "\n",
    "import re\n",
    "\n",
    "any_string = '''hello, my name is faizan. These are my contact numbers: +91-1234567899 and 9876543211.\n",
    "feel free to call me at working hours not 247.\n",
    "'''\n",
    "numberRegex = re.compile(r\"((\\+\\d\\d-)?\\d\\d\\d\\d\\d\\d\\d\\d\\d\\d)\")\n",
    "print(numberRegex.search(any_string))"
   ]
  },
  {
   "cell_type": "code",
   "execution_count": 25,
   "metadata": {},
   "outputs": [
    {
     "name": "stdout",
     "output_type": "stream",
     "text": [
      "[('+91-1234567899', '+91-'), ('9876543211', '')]\n"
     ]
    }
   ],
   "source": [
    "#using findall function\n",
    "\n",
    "import re\n",
    "\n",
    "any_string = '''hello, my name is faizan. These are my contact numbers: +91-1234567899 and 9876543211.\n",
    "feel free to call me at working hours not 247.\n",
    "'''\n",
    "numberRegex = re.compile(r\"((\\+\\d\\d-)?\\d\\d\\d\\d\\d\\d\\d\\d\\d\\d)\")\n",
    "print(numberRegex.findall(any_string))"
   ]
  },
  {
   "cell_type": "code",
   "execution_count": 28,
   "metadata": {},
   "outputs": [
    {
     "name": "stdout",
     "output_type": "stream",
     "text": [
      "['.', '.', '.']\n"
     ]
    }
   ],
   "source": [
    "#to find how many sentences are there in the string ==> can use no of full stops\n",
    "\n",
    "import re\n",
    "\n",
    "any_string = '''hello, my name is faizan. These are my contact numbers: +91-1234567899 and 9876543211.\n",
    "feel free to call me at working hours not 247.\n",
    "'''\n",
    "numberRegex = re.compile(r\"(\\.)\")\n",
    "print(numberRegex.findall(any_string))"
   ]
  },
  {
   "cell_type": "code",
   "execution_count": 29,
   "metadata": {},
   "outputs": [
    {
     "name": "stdout",
     "output_type": "stream",
     "text": [
      "['12 c', '11 s', '10 c']\n"
     ]
    }
   ],
   "source": [
    "import re\n",
    "\n",
    "any_string = '''On the 12th day of Christmas my true love gave to me\n",
    "12 chocolate cookies, 11 shoppers fighting, 10 cars a honking,\n",
    "9 broken presents, 8 bags a missing, 7 Christmas parties,\n",
    "6 crazy in-laws, 5 EXTRA POUNDS, 4 credit cards, 3 crying babies,\n",
    "2 bras, and a dry brown Christmas tree.\n",
    "'''\n",
    "\n",
    "wordRegex = re.compile(r\"(\\d\\d\\s\\w)\")\n",
    "print(wordRegex.findall(any_string))"
   ]
  },
  {
   "cell_type": "code",
   "execution_count": 30,
   "metadata": {},
   "outputs": [
    {
     "name": "stdout",
     "output_type": "stream",
     "text": [
      "['12 chocolate', '11 shoppers', '10 cars', '9 broken', '8 bags', '7 Christmas', '6 crazy', '5 EXTRA', '4 credit', '3 crying', '2 bras']\n"
     ]
    }
   ],
   "source": [
    "# '+' ==> 1 or more so same shortcut format works until any other character format appears in string\n",
    "\n",
    "import re\n",
    "\n",
    "any_string = '''On the 12th day of Christmas my true love gave to me\n",
    "12 chocolate cookies, 11 shoppers fighting, 10 cars a honking,\n",
    "9 broken presents, 8 bags a missing, 7 Christmas parties,\n",
    "6 crazy in-laws, 5 EXTRA POUNDS, 4 credit cards, 3 crying babies,\n",
    "2 bras, and a dry brown Christmas tree.\n",
    "'''\n",
    "\n",
    "wordRegex = re.compile(r\"(\\d+\\s\\w+)\")\n",
    "print(wordRegex.findall(any_string))"
   ]
  },
  {
   "cell_type": "code",
   "execution_count": 32,
   "metadata": {},
   "outputs": [
    {
     "name": "stdout",
     "output_type": "stream",
     "text": [
      "['O', 'e', 'a', 'o', 'i', 'a', 'u', 'e', 'o', 'e', 'a', 'e', 'o', 'e', 'o', 'o', 'a', 'e', 'o', 'o', 'i', 'e', 'o', 'e', 'i', 'i', 'a', 'a', 'o', 'i', 'o', 'e', 'e', 'e', 'a', 'a', 'i', 'i', 'i', 'a', 'a', 'i', 'e', 'a', 'i', 'a', 'E', 'A', 'O', 'U', 'e', 'i', 'a', 'i', 'a', 'i', 'e', 'a', 'a', 'a', 'o', 'i', 'a', 'e', 'e']\n"
     ]
    }
   ],
   "source": [
    "#making your own character class\n",
    "#finding vowels in string\n",
    "\n",
    "import re\n",
    "\n",
    "any_string = '''On the 12th day of Christmas my true love gave to me\n",
    "12 chocolate cookies, 11 shoppers fighting, 10 cars a honking,\n",
    "9 broken presents, 8 bags a missing, 7 Christmas parties,\n",
    "6 crazy in-laws, 5 EXTRA POUNDS, 4 credit cards, 3 crying babies,\n",
    "2 bras, and a dry brown Christmas tree.\n",
    "'''\n",
    "\n",
    "vowelRegex = re.compile(r\"[aeiouAEIOU]\")   #it is same as (r\"a|e|i|o|u|A|E|I|O|U\")\n",
    "print(vowelRegex.findall(any_string))"
   ]
  },
  {
   "cell_type": "code",
   "execution_count": 34,
   "metadata": {},
   "outputs": [
    {
     "name": "stdout",
     "output_type": "stream",
     "text": [
      "['ue', 'oo', 'ie', 'ie', 'OU', 'ie', 'ee']\n"
     ]
    }
   ],
   "source": [
    "# finding 2 vowels in continuation in above exp\n",
    "\n",
    "import re\n",
    "\n",
    "any_string = '''On the 12th day of Christmas my true love gave to me\n",
    "12 chocolate cookies, 11 shoppers fighting, 10 cars a honking,\n",
    "9 broken presents, 8 bags a missing, 7 Christmas parties,\n",
    "6 crazy in-laws, 5 EXTRA POUNDS, 4 credit cards, 3 crying babies,\n",
    "2 bras, and a dry brown Christmas tree.\n",
    "'''\n",
    "vowelregex = re.compile(r\"[aeiouAEIOU]{2}\")\n",
    "print(vowelregex.findall(any_string))"
   ]
  },
  {
   "cell_type": "code",
   "execution_count": 40,
   "metadata": {},
   "outputs": [
    {
     "name": "stdout",
     "output_type": "stream",
     "text": [
      "['n', 't', 'h', 't', 'h', 'd', 'y', 'f', 'C', 'h', 'r', 's', 't', 'm', 's', 'm', 'y', 't', 'r', 'l', 'v', 'g', 'v', 't', 'm', 'c', 'h', 'c', 'l', 't', 'c', 'k', 's', 's', 'h', 'p', 'p', 'r', 's', 'f', 'g', 'h', 't', 'n', 'g', 'c', 'r', 's', 'h', 'n', 'k', 'n', 'g', 'b', 'r', 'k', 'n', 'p', 'r', 's', 'n', 't', 's', 'b', 'g', 's', 'm', 's', 's', 'n', 'g', 'C', 'h', 'r', 's', 't', 'm', 's', 'p', 'r', 't', 's', 'c', 'r', 'z', 'y', 'n', 'l', 'w', 's', 'X', 'T', 'R', 'P', 'N', 'D', 'S', 'c', 'r', 'd', 't', 'c', 'r', 'd', 's', 'c', 'r', 'y', 'n', 'g', 'b', 'b', 's', 'b', 'r', 's', 'n', 'd', 'd', 'r', 'y', 'b', 'r', 'w', 'n', 'C', 'h', 'r', 's', 't', 'm', 's', 't', 'r']\n"
     ]
    }
   ],
   "source": [
    "# finding consonants in string using negative character class(caret symbol'^') with the help of vowels\n",
    "\n",
    "import re\n",
    "\n",
    "any_string = '''On the 12th day of Christmas my true love gave to me\n",
    "12 chocolate cookies, 11 shoppers fighting, 10 cars a honking,\n",
    "9 broken presents, 8 bags a missing, 7 Christmas parties,\n",
    "6 crazy in-laws, 5 EXTRA POUNDS, 4 credit cards, 3 crying babies,\n",
    "2 bras, and a dry brown Christmas tree.\n",
    "'''\n",
    "consonantregex = re.compile(r\"[^aeiouAEIOU\\s\\,\\.\\d\\-]\")\n",
    "print(consonantregex.findall(any_string))"
   ]
  },
  {
   "cell_type": "code",
   "execution_count": null,
   "metadata": {},
   "outputs": [],
   "source": []
  }
 ],
 "metadata": {
  "kernelspec": {
   "display_name": "Python 3",
   "language": "python",
   "name": "python3"
  },
  "language_info": {
   "codemirror_mode": {
    "name": "ipython",
    "version": 3
   },
   "file_extension": ".py",
   "mimetype": "text/x-python",
   "name": "python",
   "nbconvert_exporter": "python",
   "pygments_lexer": "ipython3",
   "version": "3.8.5"
  }
 },
 "nbformat": 4,
 "nbformat_minor": 4
}
