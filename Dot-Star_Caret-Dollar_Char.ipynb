{
 "cells": [
  {
   "cell_type": "code",
   "execution_count": 4,
   "metadata": {},
   "outputs": [
    {
     "name": "stdout",
     "output_type": "stream",
     "text": [
      "<re.Match object; span=(0, 4), match='Dear'>\n"
     ]
    }
   ],
   "source": [
    "# caret'^' is used to check whether string begins with certain pattern\n",
    "\n",
    "import re\n",
    "any_string = '''Dear Candidate, You have been initially-shortlisted for the Online Research Internship \n",
    "at Simulation Lab™ (Scientific Research and Development Center) Pune. Kindly fill 'Registration Form A' \n",
    "available on our official website for further process.\n",
    "'''\n",
    "beginWithRegex = re.compile(r'^Dear')\n",
    "print(beginWithRegex.search(any_string))"
   ]
  },
  {
   "cell_type": "code",
   "execution_count": 7,
   "metadata": {},
   "outputs": [
    {
     "name": "stdout",
     "output_type": "stream",
     "text": [
      "<re.Match object; span=(239, 247), match='process.'>\n"
     ]
    }
   ],
   "source": [
    "# dollar '$' is used to check whether string ends with certain pattern\n",
    "\n",
    "import re\n",
    "any_string = '''Dear Candidate, You have been initially-shortlisted for the Online Research Internship \n",
    "at Simulation Lab™ (Scientific Research and Development Center) Pune. Kindly fill 'Registration Form A' \n",
    "available on our official website for further process.\n",
    "'''\n",
    "endsWithRegex = re.compile(r'process.$')\n",
    "print(endsWithRegex.search(any_string))"
   ]
  },
  {
   "cell_type": "code",
   "execution_count": 8,
   "metadata": {},
   "outputs": [
    {
     "name": "stdout",
     "output_type": "stream",
     "text": [
      "<re.Match object; span=(0, 29), match='12234567890887764534534567567'>\n"
     ]
    }
   ],
   "source": [
    "#using '^' and '$' together to check whether string has only digits\n",
    "\n",
    "import re\n",
    "any_string = \"12234567890887764534534567567\"\n",
    "allDigitsRegex = re.compile(r'^\\d+$')\n",
    "print(allDigitsRegex.search(any_string))"
   ]
  },
  {
   "cell_type": "code",
   "execution_count": 9,
   "metadata": {},
   "outputs": [
    {
     "name": "stdout",
     "output_type": "stream",
     "text": [
      "None\n"
     ]
    }
   ],
   "source": [
    "#using '^' and '$' together to check whether string has only digits\n",
    "\n",
    "import re\n",
    "any_string = \"12234567890887QZ64534534567567\"\n",
    "allDigitsRegex = re.compile(r'^\\d+$')\n",
    "print(allDigitsRegex.search(any_string))"
   ]
  },
  {
   "cell_type": "code",
   "execution_count": 11,
   "metadata": {},
   "outputs": [
    {
     "name": "stdout",
     "output_type": "stream",
     "text": [
      "[('Faizan', 'Hamid')]\n"
     ]
    }
   ],
   "source": [
    "# using '.*' to match anything 1 or more times except newline character \\n\n",
    "\n",
    "import re\n",
    "any_string = '''first name: Faizan last name: Hamid\n",
    "'''\n",
    "nameregex = re.compile(r'first name: (.*) last name: (.*)')\n",
    "print(nameregex.findall(any_string))"
   ]
  },
  {
   "cell_type": "code",
   "execution_count": 18,
   "metadata": {},
   "outputs": [
    {
     "name": "stdout",
     "output_type": "stream",
     "text": [
      "<re.Match object; span=(0, 28), match='Hii my name is faizan hamid.'>\n"
     ]
    }
   ],
   "source": [
    "# using '.*' to match anything 1 or more times except newline character \\n\n",
    "\n",
    "import re\n",
    "any_string = '''Hii my name is faizan hamid.\n",
    "I live in Delhi.\n",
    "'''\n",
    "nameregex = re.compile(r'.*')\n",
    "print(nameregex.search(any_string))"
   ]
  },
  {
   "cell_type": "code",
   "execution_count": 13,
   "metadata": {},
   "outputs": [
    {
     "name": "stdout",
     "output_type": "stream",
     "text": [
      "['<To serve humans>']\n"
     ]
    }
   ],
   "source": [
    "# using '?' to understand non greedy match(stops at first match)\n",
    "\n",
    "import re\n",
    "any_string = '''<To serve humans> for dinner>\n",
    "'''\n",
    "nameregex = re.compile(r'<.*?>')\n",
    "print(nameregex.findall(any_string))"
   ]
  },
  {
   "cell_type": "code",
   "execution_count": 14,
   "metadata": {},
   "outputs": [
    {
     "name": "stdout",
     "output_type": "stream",
     "text": [
      "['<To serve humans> for dinner>']\n"
     ]
    }
   ],
   "source": [
    "# not using '?' to understand greedy(all matches possible)\n",
    "\n",
    "import re\n",
    "any_string = '''<To serve humans> for dinner>\n",
    "'''\n",
    "nameregex = re.compile(r'<.*>')\n",
    "print(nameregex.findall(any_string))"
   ]
  },
  {
   "cell_type": "code",
   "execution_count": 20,
   "metadata": {},
   "outputs": [
    {
     "name": "stdout",
     "output_type": "stream",
     "text": [
      "['I', 'e', 'e', 'O', 'u', 'O', 'i', 'E']\n"
     ]
    }
   ],
   "source": [
    "# using re.IGNORECASE to ignore case sensitiveness\n",
    "\n",
    "import re\n",
    "any_string = '''I serve sOup fOr dinnEr\n",
    "'''\n",
    "vowelregex = re.compile(r'[aeiou]',re.IGNORECASE)\n",
    "print(vowelregex.findall(any_string))"
   ]
  },
  {
   "cell_type": "code",
   "execution_count": null,
   "metadata": {},
   "outputs": [],
   "source": []
  }
 ],
 "metadata": {
  "kernelspec": {
   "display_name": "Python 3",
   "language": "python",
   "name": "python3"
  },
  "language_info": {
   "codemirror_mode": {
    "name": "ipython",
    "version": 3
   },
   "file_extension": ".py",
   "mimetype": "text/x-python",
   "name": "python",
   "nbconvert_exporter": "python",
   "pygments_lexer": "ipython3",
   "version": "3.8.5"
  }
 },
 "nbformat": 4,
 "nbformat_minor": 4
}
